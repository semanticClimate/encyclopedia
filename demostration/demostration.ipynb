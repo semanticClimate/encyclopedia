{
 "cells": [
  {
   "cell_type": "code",
   "execution_count": null,
   "id": "06edb93c",
   "metadata": {},
   "outputs": [],
   "source": [
    "!rm -rf pygetpapers\n",
    "!git clone --branch v20 https://github.com/petermr/pygetpapers.git"
   ]
  }
 ],
 "metadata": {
  "language_info": {
   "name": "python"
  }
 },
 "nbformat": 4,
 "nbformat_minor": 5
}
